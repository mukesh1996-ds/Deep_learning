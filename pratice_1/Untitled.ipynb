{
 "cells": [
  {
   "cell_type": "code",
   "execution_count": null,
   "id": "c24cdfd3",
   "metadata": {},
   "outputs": [],
   "source": [
    "## ANN\n",
    "\n",
    "import numpy as np\n",
    "import pandas as pd\n",
    "import matplotlib.pyplot as plt\n",
    "from sklearn.model_selection import train_test_split\n",
    "from sklearn.preprocessing import StandardScaler\n",
    "\n",
    "# importing the liberary which is responsible for creating ANN\n",
    "\n",
    "import keras\n",
    "from keras.models import Sequential # It is responsible for creating ANN, CNN \n",
    "from keras.layers import Dense # Hidden layer\n",
    "from keras.layers import LeakyReLU, PReLU, ELU # activation function\n",
    "from keras.layers import Dropout # It is regularization paramenter\n"
   ]
  },
  {
   "cell_type": "code",
   "execution_count": null,
   "id": "8b1ddf9d",
   "metadata": {},
   "outputs": [],
   "source": []
  }
 ],
 "metadata": {
  "kernelspec": {
   "display_name": "Python 3",
   "language": "python",
   "name": "python3"
  },
  "language_info": {
   "codemirror_mode": {
    "name": "ipython",
    "version": 3
   },
   "file_extension": ".py",
   "mimetype": "text/x-python",
   "name": "python",
   "nbconvert_exporter": "python",
   "pygments_lexer": "ipython3",
   "version": "3.8.8"
  }
 },
 "nbformat": 4,
 "nbformat_minor": 5
}
