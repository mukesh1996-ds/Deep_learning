{
  "nbformat": 4,
  "nbformat_minor": 0,
  "metadata": {
    "colab": {
      "name": "Deep learning.ipynb",
      "provenance": []
    },
    "kernelspec": {
      "name": "python3",
      "display_name": "Python 3"
    },
    "language_info": {
      "name": "python"
    },
    "accelerator": "GPU"
  },
  "cells": [
    {
      "cell_type": "code",
      "execution_count": 1,
      "metadata": {
        "id": "b1Ojps1dm9jI"
      },
      "outputs": [],
      "source": [
        "## ANN\n",
        "\n",
        "import numpy as np\n",
        "import pandas as pd\n",
        "import matplotlib.pyplot as plt\n",
        "from sklearn.model_selection import train_test_split\n",
        "from sklearn.preprocessing import StandardScaler\n",
        "\n",
        "# importing the liberary which is responsible for creating ANN\n",
        "\n",
        "import keras\n",
        "from keras.models import Sequential # It is responsible for creating ANN, CNN \n",
        "from keras.layers import Dense # Hidden layer\n",
        "from keras.layers import LeakyReLU, PReLU, ELU # activation function\n",
        "from keras.layers import Dropout # It is regularization paramenter\n"
      ]
    },
    {
      "cell_type": "code",
      "source": [
        "# Reading the data\n",
        "df = pd.read_csv('Churn_Modelling.csv')\n",
        "print(df)\n"
      ],
      "metadata": {
        "colab": {
          "base_uri": "https://localhost:8080/"
        },
        "id": "f_WX2GCEnLCq",
        "outputId": "e68d8185-3230-4602-d761-25a36fcd0736"
      },
      "execution_count": 3,
      "outputs": [
        {
          "output_type": "stream",
          "name": "stdout",
          "text": [
            "      RowNumber  CustomerId    Surname  ...  IsActiveMember EstimatedSalary Exited\n",
            "0             1    15634602   Hargrave  ...               1       101348.88      1\n",
            "1             2    15647311       Hill  ...               1       112542.58      0\n",
            "2             3    15619304       Onio  ...               0       113931.57      1\n",
            "3             4    15701354       Boni  ...               0        93826.63      0\n",
            "4             5    15737888   Mitchell  ...               1        79084.10      0\n",
            "...         ...         ...        ...  ...             ...             ...    ...\n",
            "9995       9996    15606229   Obijiaku  ...               0        96270.64      0\n",
            "9996       9997    15569892  Johnstone  ...               1       101699.77      0\n",
            "9997       9998    15584532        Liu  ...               1        42085.58      1\n",
            "9998       9999    15682355  Sabbatini  ...               0        92888.52      1\n",
            "9999      10000    15628319     Walker  ...               0        38190.78      0\n",
            "\n",
            "[10000 rows x 14 columns]\n"
          ]
        }
      ]
    },
    {
      "cell_type": "code",
      "source": [
        "# Data seperation \n",
        "x = df.iloc[:, 3:13]\n",
        "print('The x data is \\n', x.head())\n",
        "\n",
        "y = df.iloc[:, 13]\n",
        "print('The y data is \\n', y.head())\n"
      ],
      "metadata": {
        "colab": {
          "base_uri": "https://localhost:8080/"
        },
        "id": "ZTx3ixIcnV3p",
        "outputId": "8efd1dd3-0b34-45ce-b0a3-9054d80c3ad2"
      },
      "execution_count": 4,
      "outputs": [
        {
          "output_type": "stream",
          "name": "stdout",
          "text": [
            "The x data is \n",
            "    CreditScore Geography  Gender  ...  HasCrCard  IsActiveMember  EstimatedSalary\n",
            "0          619    France  Female  ...          1               1        101348.88\n",
            "1          608     Spain  Female  ...          0               1        112542.58\n",
            "2          502    France  Female  ...          1               0        113931.57\n",
            "3          699    France  Female  ...          0               0         93826.63\n",
            "4          850     Spain  Female  ...          1               1         79084.10\n",
            "\n",
            "[5 rows x 10 columns]\n",
            "The y data is \n",
            " 0    1\n",
            "1    0\n",
            "2    1\n",
            "3    0\n",
            "4    0\n",
            "Name: Exited, dtype: int64\n"
          ]
        }
      ]
    },
    {
      "cell_type": "code",
      "source": [
        "# checking the null values \n",
        "\n",
        "print('The null value for x column is \\n', x.isnull().sum())\n",
        "print('The null value for y column is \\n', y.isnull().sum())\n",
        "\n",
        "# checking the columns name \n",
        "print(x.columns)\n"
      ],
      "metadata": {
        "colab": {
          "base_uri": "https://localhost:8080/"
        },
        "id": "rt4XlOBnnb1t",
        "outputId": "50df8568-c061-46cf-d79f-88bfcf10465e"
      },
      "execution_count": 5,
      "outputs": [
        {
          "output_type": "stream",
          "name": "stdout",
          "text": [
            "The null value for x column is \n",
            " CreditScore        0\n",
            "Geography          0\n",
            "Gender             0\n",
            "Age                0\n",
            "Tenure             0\n",
            "Balance            0\n",
            "NumOfProducts      0\n",
            "HasCrCard          0\n",
            "IsActiveMember     0\n",
            "EstimatedSalary    0\n",
            "dtype: int64\n",
            "The null value for y column is \n",
            " 0\n",
            "Index(['CreditScore', 'Geography', 'Gender', 'Age', 'Tenure', 'Balance',\n",
            "       'NumOfProducts', 'HasCrCard', 'IsActiveMember', 'EstimatedSalary'],\n",
            "      dtype='object')\n"
          ]
        }
      ]
    },
    {
      "cell_type": "code",
      "source": [
        "# creating a dummy variables for categorical variable \n",
        "geography = pd.get_dummies(x['Geography'], drop_first = True)\n",
        "print(geography)\n",
        "gender = pd.get_dummies(x['Gender'], drop_first = True)\n",
        "print(gender)\n"
      ],
      "metadata": {
        "colab": {
          "base_uri": "https://localhost:8080/"
        },
        "id": "JdtABZ9Eneat",
        "outputId": "3282e609-74bc-40fc-d6ab-ddb1ea4865f0"
      },
      "execution_count": 6,
      "outputs": [
        {
          "output_type": "stream",
          "name": "stdout",
          "text": [
            "      Germany  Spain\n",
            "0           0      0\n",
            "1           0      1\n",
            "2           0      0\n",
            "3           0      0\n",
            "4           0      1\n",
            "...       ...    ...\n",
            "9995        0      0\n",
            "9996        0      0\n",
            "9997        0      0\n",
            "9998        1      0\n",
            "9999        0      0\n",
            "\n",
            "[10000 rows x 2 columns]\n",
            "      Male\n",
            "0        0\n",
            "1        0\n",
            "2        0\n",
            "3        0\n",
            "4        0\n",
            "...    ...\n",
            "9995     1\n",
            "9996     1\n",
            "9997     0\n",
            "9998     1\n",
            "9999     0\n",
            "\n",
            "[10000 rows x 1 columns]\n"
          ]
        }
      ]
    },
    {
      "cell_type": "code",
      "source": [
        "# Concatenate the data frame\n",
        "x = pd.concat([x, geography, gender], axis = 1)\n",
        "print(\"The x data is \\n\",x)\n"
      ],
      "metadata": {
        "colab": {
          "base_uri": "https://localhost:8080/"
        },
        "id": "zzxjPYMbngLN",
        "outputId": "a86d76da-1d64-4da9-d593-8fb042ca4a78"
      },
      "execution_count": 7,
      "outputs": [
        {
          "output_type": "stream",
          "name": "stdout",
          "text": [
            "The x data is \n",
            "       CreditScore Geography  Gender  Age  ...  EstimatedSalary  Germany  Spain  Male\n",
            "0             619    France  Female   42  ...        101348.88        0      0     0\n",
            "1             608     Spain  Female   41  ...        112542.58        0      1     0\n",
            "2             502    France  Female   42  ...        113931.57        0      0     0\n",
            "3             699    France  Female   39  ...         93826.63        0      0     0\n",
            "4             850     Spain  Female   43  ...         79084.10        0      1     0\n",
            "...           ...       ...     ...  ...  ...              ...      ...    ...   ...\n",
            "9995          771    France    Male   39  ...         96270.64        0      0     1\n",
            "9996          516    France    Male   35  ...        101699.77        0      0     1\n",
            "9997          709    France  Female   36  ...         42085.58        0      0     0\n",
            "9998          772   Germany    Male   42  ...         92888.52        1      0     1\n",
            "9999          792    France  Female   28  ...         38190.78        0      0     0\n",
            "\n",
            "[10000 rows x 13 columns]\n"
          ]
        }
      ]
    },
    {
      "cell_type": "code",
      "source": [
        "# Droping the column \n",
        "x = x.drop(['Geography', 'Gender'], axis = 1)\n",
        "print(\"The x final data is \\n\",x)\n"
      ],
      "metadata": {
        "colab": {
          "base_uri": "https://localhost:8080/"
        },
        "id": "YUwrqmxJnht1",
        "outputId": "fffed482-8916-4e9e-85f9-a9b86b3fadd0"
      },
      "execution_count": 8,
      "outputs": [
        {
          "output_type": "stream",
          "name": "stdout",
          "text": [
            "The x final data is \n",
            "       CreditScore  Age  Tenure  ...  Germany  Spain  Male\n",
            "0             619   42       2  ...        0      0     0\n",
            "1             608   41       1  ...        0      1     0\n",
            "2             502   42       8  ...        0      0     0\n",
            "3             699   39       1  ...        0      0     0\n",
            "4             850   43       2  ...        0      1     0\n",
            "...           ...  ...     ...  ...      ...    ...   ...\n",
            "9995          771   39       5  ...        0      0     1\n",
            "9996          516   35      10  ...        0      0     1\n",
            "9997          709   36       7  ...        0      0     0\n",
            "9998          772   42       3  ...        1      0     1\n",
            "9999          792   28       4  ...        0      0     0\n",
            "\n",
            "[10000 rows x 11 columns]\n"
          ]
        }
      ]
    },
    {
      "cell_type": "code",
      "source": [
        "# splitting the data set\n",
        "x_train, x_test , y_train, y_test = train_test_split(x,y , test_size=0.2, random_state=0)\n"
      ],
      "metadata": {
        "id": "gDIISZD2njRM"
      },
      "execution_count": 9,
      "outputs": []
    },
    {
      "cell_type": "code",
      "source": [
        "# scaling the x_train, x_test\n",
        "scaler = StandardScaler()\n",
        "x_train = scaler.fit_transform(x_train)\n",
        "x_test = scaler.fit_transform(x_test)\n"
      ],
      "metadata": {
        "id": "q5EeXZRTnk7N"
      },
      "execution_count": 10,
      "outputs": []
    },
    {
      "cell_type": "code",
      "source": [
        "# Initialization Sequential liberary\n",
        "classifier = Sequential() # this will be an empty neural network currently \n",
        "\n",
        "# Adding the first input layer and the first hidden layer \n",
        "classifier.add(Dense(units = 6, kernel_initializer='he_normal', activation='relu', input_shape=(11,)))\n",
        "classifier.add(Dropout(0.3))\n",
        "\n",
        "# Adding the second hidden layer\n",
        "classifier.add(Dense(units = 6, kernel_initializer='he_normal', activation='relu'))\n",
        "classifier.add(Dropout(0.4))\n",
        "\n",
        "# adding the third layer\n",
        "classifier.add(Dense(units = 6, kernel_initializer='he_normal', activation='relu'))\n",
        "classifier.add(Dropout(0.2))\n",
        "\n",
        "\n",
        "# Adding the output layer\n",
        "classifier.add(Dense(units = 1, kernel_initializer='glorot_uniform', activation='sigmoid'))\n",
        "\n",
        "\n"
      ],
      "metadata": {
        "id": "soeZ6AFwnmi-"
      },
      "execution_count": 25,
      "outputs": []
    },
    {
      "cell_type": "code",
      "source": [
        "classifier.summary()"
      ],
      "metadata": {
        "colab": {
          "base_uri": "https://localhost:8080/"
        },
        "id": "pm4v8LlDnpEN",
        "outputId": "20511daa-9e45-49a0-a851-6fffea126165"
      },
      "execution_count": 26,
      "outputs": [
        {
          "output_type": "stream",
          "name": "stdout",
          "text": [
            "Model: \"sequential_4\"\n",
            "_________________________________________________________________\n",
            " Layer (type)                Output Shape              Param #   \n",
            "=================================================================\n",
            " dense_10 (Dense)            (None, 6)                 72        \n",
            "                                                                 \n",
            " dropout (Dropout)           (None, 6)                 0         \n",
            "                                                                 \n",
            " dense_11 (Dense)            (None, 6)                 42        \n",
            "                                                                 \n",
            " dropout_1 (Dropout)         (None, 6)                 0         \n",
            "                                                                 \n",
            " dense_12 (Dense)            (None, 6)                 42        \n",
            "                                                                 \n",
            " dropout_2 (Dropout)         (None, 6)                 0         \n",
            "                                                                 \n",
            " dense_13 (Dense)            (None, 1)                 7         \n",
            "                                                                 \n",
            "=================================================================\n",
            "Total params: 163\n",
            "Trainable params: 163\n",
            "Non-trainable params: 0\n",
            "_________________________________________________________________\n"
          ]
        }
      ]
    },
    {
      "cell_type": "code",
      "source": [
        "# compiling the ANN\n",
        "classifier.compile(optimizer='adam', loss='binary_crossentropy', metrics=['accuracy'])\n"
      ],
      "metadata": {
        "id": "kACAmUM8p5W8"
      },
      "execution_count": 27,
      "outputs": []
    },
    {
      "cell_type": "code",
      "source": [
        "# Fitting the ANN to the training set\n",
        "model_history = classifier.fit(x_train,y_train, validation_split=0.33, batch_size=10, epochs=100)\n"
      ],
      "metadata": {
        "colab": {
          "base_uri": "https://localhost:8080/"
        },
        "id": "ECB5BMEgqnqJ",
        "outputId": "18614ebd-243b-474e-eedb-3ddf9f68cfa4"
      },
      "execution_count": 28,
      "outputs": [
        {
          "output_type": "stream",
          "name": "stdout",
          "text": [
            "Epoch 1/100\n",
            "536/536 [==============================] - 4s 6ms/step - loss: 0.6410 - accuracy: 0.7638 - val_loss: 0.4984 - val_accuracy: 0.8023\n",
            "Epoch 2/100\n",
            "536/536 [==============================] - 3s 5ms/step - loss: 0.5264 - accuracy: 0.7953 - val_loss: 0.4924 - val_accuracy: 0.7955\n",
            "Epoch 3/100\n",
            "536/536 [==============================] - 3s 5ms/step - loss: 0.5038 - accuracy: 0.7972 - val_loss: 0.4833 - val_accuracy: 0.7955\n",
            "Epoch 4/100\n",
            "536/536 [==============================] - 3s 5ms/step - loss: 0.4953 - accuracy: 0.7966 - val_loss: 0.4758 - val_accuracy: 0.7955\n",
            "Epoch 5/100\n",
            "536/536 [==============================] - 3s 5ms/step - loss: 0.4862 - accuracy: 0.7998 - val_loss: 0.4662 - val_accuracy: 0.7955\n",
            "Epoch 6/100\n",
            "536/536 [==============================] - 3s 5ms/step - loss: 0.4803 - accuracy: 0.8054 - val_loss: 0.4627 - val_accuracy: 0.7955\n",
            "Epoch 7/100\n",
            "536/536 [==============================] - 3s 5ms/step - loss: 0.4766 - accuracy: 0.8048 - val_loss: 0.4532 - val_accuracy: 0.7959\n",
            "Epoch 8/100\n",
            "536/536 [==============================] - 3s 5ms/step - loss: 0.4683 - accuracy: 0.8063 - val_loss: 0.4480 - val_accuracy: 0.7955\n",
            "Epoch 9/100\n",
            "536/536 [==============================] - 3s 5ms/step - loss: 0.4606 - accuracy: 0.8132 - val_loss: 0.4445 - val_accuracy: 0.7959\n",
            "Epoch 10/100\n",
            "536/536 [==============================] - 3s 5ms/step - loss: 0.4568 - accuracy: 0.8125 - val_loss: 0.4390 - val_accuracy: 0.7959\n",
            "Epoch 11/100\n",
            "536/536 [==============================] - 3s 5ms/step - loss: 0.4612 - accuracy: 0.8123 - val_loss: 0.4421 - val_accuracy: 0.7955\n",
            "Epoch 12/100\n",
            "536/536 [==============================] - 3s 5ms/step - loss: 0.4616 - accuracy: 0.8057 - val_loss: 0.4432 - val_accuracy: 0.7955\n",
            "Epoch 13/100\n",
            "536/536 [==============================] - 3s 5ms/step - loss: 0.4589 - accuracy: 0.8100 - val_loss: 0.4395 - val_accuracy: 0.7959\n",
            "Epoch 14/100\n",
            "536/536 [==============================] - 3s 5ms/step - loss: 0.4493 - accuracy: 0.8085 - val_loss: 0.4382 - val_accuracy: 0.7955\n",
            "Epoch 15/100\n",
            "536/536 [==============================] - 3s 5ms/step - loss: 0.4479 - accuracy: 0.8115 - val_loss: 0.4369 - val_accuracy: 0.7955\n",
            "Epoch 16/100\n",
            "536/536 [==============================] - 3s 5ms/step - loss: 0.4548 - accuracy: 0.8095 - val_loss: 0.4366 - val_accuracy: 0.7955\n",
            "Epoch 17/100\n",
            "536/536 [==============================] - 3s 5ms/step - loss: 0.4509 - accuracy: 0.8099 - val_loss: 0.4356 - val_accuracy: 0.7955\n",
            "Epoch 18/100\n",
            "536/536 [==============================] - 3s 5ms/step - loss: 0.4472 - accuracy: 0.8119 - val_loss: 0.4375 - val_accuracy: 0.7955\n",
            "Epoch 19/100\n",
            "536/536 [==============================] - 3s 5ms/step - loss: 0.4504 - accuracy: 0.8067 - val_loss: 0.4376 - val_accuracy: 0.7955\n",
            "Epoch 20/100\n",
            "536/536 [==============================] - 3s 6ms/step - loss: 0.4477 - accuracy: 0.8078 - val_loss: 0.4341 - val_accuracy: 0.7955\n",
            "Epoch 21/100\n",
            "536/536 [==============================] - 3s 5ms/step - loss: 0.4431 - accuracy: 0.8108 - val_loss: 0.4342 - val_accuracy: 0.7952\n",
            "Epoch 22/100\n",
            "536/536 [==============================] - 3s 5ms/step - loss: 0.4558 - accuracy: 0.8074 - val_loss: 0.4382 - val_accuracy: 0.7952\n",
            "Epoch 23/100\n",
            "536/536 [==============================] - 3s 5ms/step - loss: 0.4461 - accuracy: 0.8127 - val_loss: 0.4348 - val_accuracy: 0.7963\n",
            "Epoch 24/100\n",
            "536/536 [==============================] - 3s 5ms/step - loss: 0.4481 - accuracy: 0.8099 - val_loss: 0.4337 - val_accuracy: 0.7963\n",
            "Epoch 25/100\n",
            "536/536 [==============================] - 3s 5ms/step - loss: 0.4484 - accuracy: 0.8087 - val_loss: 0.4346 - val_accuracy: 0.7959\n",
            "Epoch 26/100\n",
            "536/536 [==============================] - 3s 5ms/step - loss: 0.4466 - accuracy: 0.8100 - val_loss: 0.4328 - val_accuracy: 0.7978\n",
            "Epoch 27/100\n",
            "536/536 [==============================] - 3s 5ms/step - loss: 0.4461 - accuracy: 0.8087 - val_loss: 0.4353 - val_accuracy: 0.7963\n",
            "Epoch 28/100\n",
            "536/536 [==============================] - 3s 5ms/step - loss: 0.4407 - accuracy: 0.8128 - val_loss: 0.4337 - val_accuracy: 0.7967\n",
            "Epoch 29/100\n",
            "536/536 [==============================] - 3s 5ms/step - loss: 0.4437 - accuracy: 0.8106 - val_loss: 0.4299 - val_accuracy: 0.7967\n",
            "Epoch 30/100\n",
            "536/536 [==============================] - 3s 5ms/step - loss: 0.4413 - accuracy: 0.8127 - val_loss: 0.4321 - val_accuracy: 0.7970\n",
            "Epoch 31/100\n",
            "536/536 [==============================] - 3s 5ms/step - loss: 0.4377 - accuracy: 0.8104 - val_loss: 0.4294 - val_accuracy: 0.7967\n",
            "Epoch 32/100\n",
            "536/536 [==============================] - 3s 5ms/step - loss: 0.4444 - accuracy: 0.8125 - val_loss: 0.4339 - val_accuracy: 0.7970\n",
            "Epoch 33/100\n",
            "536/536 [==============================] - 3s 6ms/step - loss: 0.4431 - accuracy: 0.8134 - val_loss: 0.4330 - val_accuracy: 0.7963\n",
            "Epoch 34/100\n",
            "536/536 [==============================] - 3s 6ms/step - loss: 0.4329 - accuracy: 0.8158 - val_loss: 0.4258 - val_accuracy: 0.8095\n",
            "Epoch 35/100\n",
            "536/536 [==============================] - 3s 6ms/step - loss: 0.4400 - accuracy: 0.8160 - val_loss: 0.4276 - val_accuracy: 0.8012\n",
            "Epoch 36/100\n",
            "536/536 [==============================] - 3s 6ms/step - loss: 0.4440 - accuracy: 0.8112 - val_loss: 0.4322 - val_accuracy: 0.7970\n",
            "Epoch 37/100\n",
            "536/536 [==============================] - 3s 5ms/step - loss: 0.4395 - accuracy: 0.8110 - val_loss: 0.4314 - val_accuracy: 0.7959\n",
            "Epoch 38/100\n",
            "536/536 [==============================] - 3s 5ms/step - loss: 0.4418 - accuracy: 0.8108 - val_loss: 0.4353 - val_accuracy: 0.7959\n",
            "Epoch 39/100\n",
            "536/536 [==============================] - 3s 6ms/step - loss: 0.4461 - accuracy: 0.8102 - val_loss: 0.4344 - val_accuracy: 0.7955\n",
            "Epoch 40/100\n",
            "536/536 [==============================] - 3s 5ms/step - loss: 0.4341 - accuracy: 0.8130 - val_loss: 0.4318 - val_accuracy: 0.7955\n",
            "Epoch 41/100\n",
            "536/536 [==============================] - 3s 5ms/step - loss: 0.4412 - accuracy: 0.8084 - val_loss: 0.4314 - val_accuracy: 0.7959\n",
            "Epoch 42/100\n",
            "536/536 [==============================] - 3s 5ms/step - loss: 0.4400 - accuracy: 0.8087 - val_loss: 0.4331 - val_accuracy: 0.7955\n",
            "Epoch 43/100\n",
            "536/536 [==============================] - 3s 5ms/step - loss: 0.4361 - accuracy: 0.8136 - val_loss: 0.4309 - val_accuracy: 0.7974\n",
            "Epoch 44/100\n",
            "536/536 [==============================] - 3s 5ms/step - loss: 0.4401 - accuracy: 0.8099 - val_loss: 0.4311 - val_accuracy: 0.7955\n",
            "Epoch 45/100\n",
            "536/536 [==============================] - 3s 5ms/step - loss: 0.4321 - accuracy: 0.8145 - val_loss: 0.4259 - val_accuracy: 0.7982\n",
            "Epoch 46/100\n",
            "536/536 [==============================] - 3s 6ms/step - loss: 0.4374 - accuracy: 0.8113 - val_loss: 0.4311 - val_accuracy: 0.7959\n",
            "Epoch 47/100\n",
            "536/536 [==============================] - 3s 5ms/step - loss: 0.4380 - accuracy: 0.8123 - val_loss: 0.4311 - val_accuracy: 0.7963\n",
            "Epoch 48/100\n",
            "536/536 [==============================] - 3s 5ms/step - loss: 0.4391 - accuracy: 0.8128 - val_loss: 0.4308 - val_accuracy: 0.7959\n",
            "Epoch 49/100\n",
            "536/536 [==============================] - 3s 5ms/step - loss: 0.4393 - accuracy: 0.8119 - val_loss: 0.4296 - val_accuracy: 0.7982\n",
            "Epoch 50/100\n",
            "536/536 [==============================] - 3s 5ms/step - loss: 0.4318 - accuracy: 0.8136 - val_loss: 0.4307 - val_accuracy: 0.7986\n",
            "Epoch 51/100\n",
            "536/536 [==============================] - 3s 5ms/step - loss: 0.4384 - accuracy: 0.8140 - val_loss: 0.4284 - val_accuracy: 0.8008\n",
            "Epoch 52/100\n",
            "536/536 [==============================] - 3s 5ms/step - loss: 0.4409 - accuracy: 0.8074 - val_loss: 0.4264 - val_accuracy: 0.7974\n",
            "Epoch 53/100\n",
            "536/536 [==============================] - 3s 5ms/step - loss: 0.4361 - accuracy: 0.8119 - val_loss: 0.4270 - val_accuracy: 0.7952\n",
            "Epoch 54/100\n",
            "536/536 [==============================] - 3s 6ms/step - loss: 0.4387 - accuracy: 0.8080 - val_loss: 0.4286 - val_accuracy: 0.7959\n",
            "Epoch 55/100\n",
            "536/536 [==============================] - 3s 6ms/step - loss: 0.4419 - accuracy: 0.8085 - val_loss: 0.4300 - val_accuracy: 0.7959\n",
            "Epoch 56/100\n",
            "536/536 [==============================] - 3s 5ms/step - loss: 0.4328 - accuracy: 0.8141 - val_loss: 0.4321 - val_accuracy: 0.7963\n",
            "Epoch 57/100\n",
            "536/536 [==============================] - 3s 6ms/step - loss: 0.4362 - accuracy: 0.8127 - val_loss: 0.4239 - val_accuracy: 0.7978\n",
            "Epoch 58/100\n",
            "536/536 [==============================] - 3s 5ms/step - loss: 0.4348 - accuracy: 0.8134 - val_loss: 0.4257 - val_accuracy: 0.7993\n",
            "Epoch 59/100\n",
            "536/536 [==============================] - 3s 5ms/step - loss: 0.4349 - accuracy: 0.8100 - val_loss: 0.4216 - val_accuracy: 0.7982\n",
            "Epoch 60/100\n",
            "536/536 [==============================] - 3s 5ms/step - loss: 0.4341 - accuracy: 0.8104 - val_loss: 0.4232 - val_accuracy: 0.7978\n",
            "Epoch 61/100\n",
            "536/536 [==============================] - 3s 5ms/step - loss: 0.4379 - accuracy: 0.8102 - val_loss: 0.4264 - val_accuracy: 0.7974\n",
            "Epoch 62/100\n",
            "536/536 [==============================] - 3s 5ms/step - loss: 0.4375 - accuracy: 0.8136 - val_loss: 0.4221 - val_accuracy: 0.7974\n",
            "Epoch 63/100\n",
            "536/536 [==============================] - 3s 5ms/step - loss: 0.4373 - accuracy: 0.8115 - val_loss: 0.4238 - val_accuracy: 0.7970\n",
            "Epoch 64/100\n",
            "536/536 [==============================] - 3s 5ms/step - loss: 0.4400 - accuracy: 0.8076 - val_loss: 0.4301 - val_accuracy: 0.7993\n",
            "Epoch 65/100\n",
            "536/536 [==============================] - 3s 5ms/step - loss: 0.4396 - accuracy: 0.8104 - val_loss: 0.4312 - val_accuracy: 0.7955\n",
            "Epoch 66/100\n",
            "536/536 [==============================] - 3s 5ms/step - loss: 0.4356 - accuracy: 0.8117 - val_loss: 0.4252 - val_accuracy: 0.8001\n",
            "Epoch 67/100\n",
            "536/536 [==============================] - 3s 5ms/step - loss: 0.4405 - accuracy: 0.8125 - val_loss: 0.4260 - val_accuracy: 0.7993\n",
            "Epoch 68/100\n",
            "536/536 [==============================] - 3s 5ms/step - loss: 0.4358 - accuracy: 0.8106 - val_loss: 0.4225 - val_accuracy: 0.7993\n",
            "Epoch 69/100\n",
            "536/536 [==============================] - 3s 5ms/step - loss: 0.4312 - accuracy: 0.8147 - val_loss: 0.4246 - val_accuracy: 0.8016\n",
            "Epoch 70/100\n",
            "536/536 [==============================] - 3s 6ms/step - loss: 0.4350 - accuracy: 0.8117 - val_loss: 0.4261 - val_accuracy: 0.8005\n",
            "Epoch 71/100\n",
            "536/536 [==============================] - 3s 5ms/step - loss: 0.4359 - accuracy: 0.8102 - val_loss: 0.4223 - val_accuracy: 0.8016\n",
            "Epoch 72/100\n",
            "536/536 [==============================] - 3s 5ms/step - loss: 0.4378 - accuracy: 0.8084 - val_loss: 0.4224 - val_accuracy: 0.8042\n",
            "Epoch 73/100\n",
            "536/536 [==============================] - 3s 5ms/step - loss: 0.4374 - accuracy: 0.8113 - val_loss: 0.4233 - val_accuracy: 0.8050\n",
            "Epoch 74/100\n",
            "536/536 [==============================] - 3s 5ms/step - loss: 0.4317 - accuracy: 0.8141 - val_loss: 0.4245 - val_accuracy: 0.8001\n",
            "Epoch 75/100\n",
            "536/536 [==============================] - 3s 6ms/step - loss: 0.4399 - accuracy: 0.8091 - val_loss: 0.4299 - val_accuracy: 0.7989\n",
            "Epoch 76/100\n",
            "536/536 [==============================] - 3s 5ms/step - loss: 0.4340 - accuracy: 0.8078 - val_loss: 0.4230 - val_accuracy: 0.7982\n",
            "Epoch 77/100\n",
            "536/536 [==============================] - 3s 5ms/step - loss: 0.4368 - accuracy: 0.8106 - val_loss: 0.4324 - val_accuracy: 0.8005\n",
            "Epoch 78/100\n",
            "536/536 [==============================] - 3s 5ms/step - loss: 0.4336 - accuracy: 0.8085 - val_loss: 0.4203 - val_accuracy: 0.8001\n",
            "Epoch 79/100\n",
            "536/536 [==============================] - 3s 5ms/step - loss: 0.4381 - accuracy: 0.8100 - val_loss: 0.4260 - val_accuracy: 0.7997\n",
            "Epoch 80/100\n",
            "536/536 [==============================] - 3s 5ms/step - loss: 0.4267 - accuracy: 0.8151 - val_loss: 0.4181 - val_accuracy: 0.7986\n",
            "Epoch 81/100\n",
            "536/536 [==============================] - 3s 5ms/step - loss: 0.4374 - accuracy: 0.8089 - val_loss: 0.4255 - val_accuracy: 0.8016\n",
            "Epoch 82/100\n",
            "536/536 [==============================] - 3s 5ms/step - loss: 0.4285 - accuracy: 0.8143 - val_loss: 0.4185 - val_accuracy: 0.8046\n",
            "Epoch 83/100\n",
            "536/536 [==============================] - 3s 5ms/step - loss: 0.4343 - accuracy: 0.8069 - val_loss: 0.4177 - val_accuracy: 0.8016\n",
            "Epoch 84/100\n",
            "536/536 [==============================] - 3s 5ms/step - loss: 0.4309 - accuracy: 0.8125 - val_loss: 0.4227 - val_accuracy: 0.8050\n",
            "Epoch 85/100\n",
            "536/536 [==============================] - 3s 5ms/step - loss: 0.4320 - accuracy: 0.8089 - val_loss: 0.4188 - val_accuracy: 0.8133\n",
            "Epoch 86/100\n",
            "536/536 [==============================] - 3s 5ms/step - loss: 0.4340 - accuracy: 0.8151 - val_loss: 0.4163 - val_accuracy: 0.8126\n",
            "Epoch 87/100\n",
            "536/536 [==============================] - 3s 5ms/step - loss: 0.4283 - accuracy: 0.8130 - val_loss: 0.4167 - val_accuracy: 0.8164\n",
            "Epoch 88/100\n",
            "536/536 [==============================] - 3s 6ms/step - loss: 0.4319 - accuracy: 0.8108 - val_loss: 0.4169 - val_accuracy: 0.8080\n",
            "Epoch 89/100\n",
            "536/536 [==============================] - 3s 5ms/step - loss: 0.4278 - accuracy: 0.8119 - val_loss: 0.4143 - val_accuracy: 0.8092\n",
            "Epoch 90/100\n",
            "536/536 [==============================] - 3s 5ms/step - loss: 0.4314 - accuracy: 0.8087 - val_loss: 0.4142 - val_accuracy: 0.8133\n",
            "Epoch 91/100\n",
            "536/536 [==============================] - 3s 5ms/step - loss: 0.4348 - accuracy: 0.8112 - val_loss: 0.4182 - val_accuracy: 0.8126\n",
            "Epoch 92/100\n",
            "536/536 [==============================] - 3s 5ms/step - loss: 0.4291 - accuracy: 0.8089 - val_loss: 0.4136 - val_accuracy: 0.8152\n",
            "Epoch 93/100\n",
            "536/536 [==============================] - 3s 5ms/step - loss: 0.4291 - accuracy: 0.8115 - val_loss: 0.4131 - val_accuracy: 0.8141\n",
            "Epoch 94/100\n",
            "536/536 [==============================] - 3s 5ms/step - loss: 0.4267 - accuracy: 0.8113 - val_loss: 0.4114 - val_accuracy: 0.8148\n",
            "Epoch 95/100\n",
            "536/536 [==============================] - 3s 5ms/step - loss: 0.4266 - accuracy: 0.8108 - val_loss: 0.4108 - val_accuracy: 0.8122\n",
            "Epoch 96/100\n",
            "536/536 [==============================] - 3s 5ms/step - loss: 0.4350 - accuracy: 0.8078 - val_loss: 0.4164 - val_accuracy: 0.8046\n",
            "Epoch 97/100\n",
            "536/536 [==============================] - 3s 6ms/step - loss: 0.4329 - accuracy: 0.8104 - val_loss: 0.4138 - val_accuracy: 0.8095\n",
            "Epoch 98/100\n",
            "536/536 [==============================] - 3s 5ms/step - loss: 0.4322 - accuracy: 0.8110 - val_loss: 0.4131 - val_accuracy: 0.8103\n",
            "Epoch 99/100\n",
            "536/536 [==============================] - 3s 6ms/step - loss: 0.4301 - accuracy: 0.8071 - val_loss: 0.4119 - val_accuracy: 0.8076\n",
            "Epoch 100/100\n",
            "536/536 [==============================] - 3s 5ms/step - loss: 0.4294 - accuracy: 0.8091 - val_loss: 0.4121 - val_accuracy: 0.8129\n"
          ]
        }
      ]
    },
    {
      "cell_type": "code",
      "source": [
        "# list all the data in history\n",
        "print(model_history.history.keys())"
      ],
      "metadata": {
        "colab": {
          "base_uri": "https://localhost:8080/"
        },
        "id": "fW9AFYq5rJuA",
        "outputId": "a883be1a-903f-48d4-e580-654068c712b7"
      },
      "execution_count": 29,
      "outputs": [
        {
          "output_type": "stream",
          "name": "stdout",
          "text": [
            "dict_keys(['loss', 'accuracy', 'val_loss', 'val_accuracy'])\n"
          ]
        }
      ]
    },
    {
      "cell_type": "code",
      "source": [
        "# Summarize the history for accuracy\n",
        "plt.plot(model_history.history['accuracy'])\n",
        "plt.plot(model_history.history['val_accuracy'])\n",
        "plt.title('model_Accuracy')\n",
        "plt.xlabel('epoch')\n",
        "plt.ylabel('accuracy')\n",
        "plt.legend(['train', 'test'],loc = 'upper left')\n",
        "plt.show()\n"
      ],
      "metadata": {
        "colab": {
          "base_uri": "https://localhost:8080/",
          "height": 295
        },
        "id": "etvgRMgIs5C4",
        "outputId": "2cfd0da2-868f-4645-cf92-3cfe66181c3a"
      },
      "execution_count": 30,
      "outputs": [
        {
          "output_type": "display_data",
          "data": {
            "image/png": "[encoded data removed]",
            "text/plain": [
              "<Figure size 432x288 with 1 Axes>"
            ]
          },
          "metadata": {
            "needs_background": "light"
          }
        }
      ]
    },
    {
      "cell_type": "code",
      "source": [
        "\n",
        "# Making prediction and evaluating the model\n",
        "y_pred = classifier.predict(x_test)\n",
        "y_pred = (y_pred > 0.5)\n",
        "print(y_pred)"
      ],
      "metadata": {
        "colab": {
          "base_uri": "https://localhost:8080/"
        },
        "id": "QnP5g4IXtsL2",
        "outputId": "8942cc3b-4755-424b-bf7e-74d172b78592"
      },
      "execution_count": 31,
      "outputs": [
        {
          "output_type": "stream",
          "name": "stdout",
          "text": [
            "[[False]\n",
            " [False]\n",
            " [False]\n",
            " ...\n",
            " [False]\n",
            " [False]\n",
            " [False]]\n"
          ]
        }
      ]
    },
    {
      "cell_type": "code",
      "source": [
        "# Making the confusion metrics\n",
        "from sklearn.metrics import confusion_matrix\n",
        "cm = confusion_matrix(y_test, y_pred)\n",
        "print(cm)"
      ],
      "metadata": {
        "colab": {
          "base_uri": "https://localhost:8080/"
        },
        "id": "qTpXtAmEuHdT",
        "outputId": "a31aa2f2-c342-4561-f915-3694f0fc4066"
      },
      "execution_count": 32,
      "outputs": [
        {
          "output_type": "stream",
          "name": "stdout",
          "text": [
            "[[1588    7]\n",
            " [ 368   37]]\n"
          ]
        }
      ]
    },
    {
      "cell_type": "code",
      "source": [
        "# Calculate the accuracy\n",
        "from sklearn.metrics import accuracy_score\n",
        "score = accuracy_score(y_test, y_pred)\n",
        "print(score)"
      ],
      "metadata": {
        "colab": {
          "base_uri": "https://localhost:8080/"
        },
        "id": "3iUkdhzkudwi",
        "outputId": "5bfb024b-1af9-414b-baa0-f400111283b8"
      },
      "execution_count": 33,
      "outputs": [
        {
          "output_type": "stream",
          "name": "stdout",
          "text": [
            "0.8125\n"
          ]
        }
      ]
    }
  ]
}