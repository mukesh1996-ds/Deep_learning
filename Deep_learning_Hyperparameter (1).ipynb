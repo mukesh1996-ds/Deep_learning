{
  "nbformat": 4,
  "nbformat_minor": 0,
  "metadata": {
    "colab": {
      "name": "Deep learning-Hyperparameter.ipynb",
      "provenance": []
    },
    "kernelspec": {
      "name": "python3",
      "display_name": "Python 3"
    },
    "language_info": {
      "name": "python"
    },
    "accelerator": "GPU"
  },
  "cells": [
    {
      "cell_type": "code",
      "execution_count": 11,
      "metadata": {
        "id": "b1Ojps1dm9jI"
      },
      "outputs": [],
      "source": [
        "## ANN\n",
        "\n",
        "import numpy as np\n",
        "import pandas as pd\n",
        "import matplotlib.pyplot as plt\n",
        "from sklearn.model_selection import train_test_split\n",
        "from sklearn.preprocessing import StandardScaler\n",
        "\n",
        "# importing the liberary which is responsible for creating ANN\n",
        "\n",
        "import keras\n",
        "from keras.models import Sequential # It is responsible for creating ANN, CNN \n",
        "from keras.layers import Dense, Activation, Embedding, Flatten, BatchNormalization # Hidden layer\n",
        "from keras.layers import LeakyReLU, PReLU, ELU # activation function\n",
        "from keras.layers import Dropout # It is regularization paramenter\n"
      ]
    },
    {
      "cell_type": "code",
      "source": [
        "# Reading the data\n",
        "df = pd.read_csv('Churn_Modelling.csv')\n",
        "print(df)\n"
      ],
      "metadata": {
        "colab": {
          "base_uri": "https://localhost:8080/"
        },
        "id": "f_WX2GCEnLCq",
        "outputId": "02054629-0a78-41e9-c5ae-ee61cec94a5a"
      },
      "execution_count": 2,
      "outputs": [
        {
          "output_type": "stream",
          "name": "stdout",
          "text": [
            "      RowNumber  CustomerId    Surname  ...  IsActiveMember EstimatedSalary Exited\n",
            "0             1    15634602   Hargrave  ...               1       101348.88      1\n",
            "1             2    15647311       Hill  ...               1       112542.58      0\n",
            "2             3    15619304       Onio  ...               0       113931.57      1\n",
            "3             4    15701354       Boni  ...               0        93826.63      0\n",
            "4             5    15737888   Mitchell  ...               1        79084.10      0\n",
            "...         ...         ...        ...  ...             ...             ...    ...\n",
            "9995       9996    15606229   Obijiaku  ...               0        96270.64      0\n",
            "9996       9997    15569892  Johnstone  ...               1       101699.77      0\n",
            "9997       9998    15584532        Liu  ...               1        42085.58      1\n",
            "9998       9999    15682355  Sabbatini  ...               0        92888.52      1\n",
            "9999      10000    15628319     Walker  ...               0        38190.78      0\n",
            "\n",
            "[10000 rows x 14 columns]\n"
          ]
        }
      ]
    },
    {
      "cell_type": "code",
      "source": [
        "# Data seperation \n",
        "x = df.iloc[:, 3:13]\n",
        "print('The x data is \\n', x.head())\n",
        "\n",
        "y = df.iloc[:, 13]\n",
        "print('The y data is \\n', y.head())\n"
      ],
      "metadata": {
        "colab": {
          "base_uri": "https://localhost:8080/"
        },
        "id": "ZTx3ixIcnV3p",
        "outputId": "b9e4902a-847f-405a-a089-1b6ee46c0bc9"
      },
      "execution_count": 3,
      "outputs": [
        {
          "output_type": "stream",
          "name": "stdout",
          "text": [
            "The x data is \n",
            "    CreditScore Geography  Gender  ...  HasCrCard  IsActiveMember  EstimatedSalary\n",
            "0          619    France  Female  ...          1               1        101348.88\n",
            "1          608     Spain  Female  ...          0               1        112542.58\n",
            "2          502    France  Female  ...          1               0        113931.57\n",
            "3          699    France  Female  ...          0               0         93826.63\n",
            "4          850     Spain  Female  ...          1               1         79084.10\n",
            "\n",
            "[5 rows x 10 columns]\n",
            "The y data is \n",
            " 0    1\n",
            "1    0\n",
            "2    1\n",
            "3    0\n",
            "4    0\n",
            "Name: Exited, dtype: int64\n"
          ]
        }
      ]
    },
    {
      "cell_type": "code",
      "source": [
        "# checking the null values \n",
        "\n",
        "print('The null value for x column is \\n', x.isnull().sum())\n",
        "print('The null value for y column is \\n', y.isnull().sum())\n",
        "\n",
        "# checking the columns name \n",
        "print(x.columns)\n"
      ],
      "metadata": {
        "colab": {
          "base_uri": "https://localhost:8080/"
        },
        "id": "rt4XlOBnnb1t",
        "outputId": "a6d2d42b-caaa-4b30-84b7-43fdfe3dd23b"
      },
      "execution_count": 4,
      "outputs": [
        {
          "output_type": "stream",
          "name": "stdout",
          "text": [
            "The null value for x column is \n",
            " CreditScore        0\n",
            "Geography          0\n",
            "Gender             0\n",
            "Age                0\n",
            "Tenure             0\n",
            "Balance            0\n",
            "NumOfProducts      0\n",
            "HasCrCard          0\n",
            "IsActiveMember     0\n",
            "EstimatedSalary    0\n",
            "dtype: int64\n",
            "The null value for y column is \n",
            " 0\n",
            "Index(['CreditScore', 'Geography', 'Gender', 'Age', 'Tenure', 'Balance',\n",
            "       'NumOfProducts', 'HasCrCard', 'IsActiveMember', 'EstimatedSalary'],\n",
            "      dtype='object')\n"
          ]
        }
      ]
    },
    {
      "cell_type": "code",
      "source": [
        "# creating a dummy variables for categorical variable \n",
        "geography = pd.get_dummies(x['Geography'], drop_first = True)\n",
        "print(geography)\n",
        "gender = pd.get_dummies(x['Gender'], drop_first = True)\n",
        "print(gender)\n"
      ],
      "metadata": {
        "colab": {
          "base_uri": "https://localhost:8080/"
        },
        "id": "JdtABZ9Eneat",
        "outputId": "a3b11ef9-a6b5-4fdf-9696-86cf9f1b2b8d"
      },
      "execution_count": 5,
      "outputs": [
        {
          "output_type": "stream",
          "name": "stdout",
          "text": [
            "      Germany  Spain\n",
            "0           0      0\n",
            "1           0      1\n",
            "2           0      0\n",
            "3           0      0\n",
            "4           0      1\n",
            "...       ...    ...\n",
            "9995        0      0\n",
            "9996        0      0\n",
            "9997        0      0\n",
            "9998        1      0\n",
            "9999        0      0\n",
            "\n",
            "[10000 rows x 2 columns]\n",
            "      Male\n",
            "0        0\n",
            "1        0\n",
            "2        0\n",
            "3        0\n",
            "4        0\n",
            "...    ...\n",
            "9995     1\n",
            "9996     1\n",
            "9997     0\n",
            "9998     1\n",
            "9999     0\n",
            "\n",
            "[10000 rows x 1 columns]\n"
          ]
        }
      ]
    },
    {
      "cell_type": "code",
      "source": [
        "# Concatenate the data frame\n",
        "x = pd.concat([x, geography, gender], axis = 1)\n",
        "print(\"The x data is \\n\",x)\n"
      ],
      "metadata": {
        "colab": {
          "base_uri": "https://localhost:8080/"
        },
        "id": "zzxjPYMbngLN",
        "outputId": "533a1d15-7a02-4d50-fa0c-498745b01720"
      },
      "execution_count": 6,
      "outputs": [
        {
          "output_type": "stream",
          "name": "stdout",
          "text": [
            "The x data is \n",
            "       CreditScore Geography  Gender  Age  ...  EstimatedSalary  Germany  Spain  Male\n",
            "0             619    France  Female   42  ...        101348.88        0      0     0\n",
            "1             608     Spain  Female   41  ...        112542.58        0      1     0\n",
            "2             502    France  Female   42  ...        113931.57        0      0     0\n",
            "3             699    France  Female   39  ...         93826.63        0      0     0\n",
            "4             850     Spain  Female   43  ...         79084.10        0      1     0\n",
            "...           ...       ...     ...  ...  ...              ...      ...    ...   ...\n",
            "9995          771    France    Male   39  ...         96270.64        0      0     1\n",
            "9996          516    France    Male   35  ...        101699.77        0      0     1\n",
            "9997          709    France  Female   36  ...         42085.58        0      0     0\n",
            "9998          772   Germany    Male   42  ...         92888.52        1      0     1\n",
            "9999          792    France  Female   28  ...         38190.78        0      0     0\n",
            "\n",
            "[10000 rows x 13 columns]\n"
          ]
        }
      ]
    },
    {
      "cell_type": "code",
      "source": [
        "# Droping the column \n",
        "x = x.drop(['Geography', 'Gender'], axis = 1)\n",
        "print(\"The x final data is \\n\",x)\n"
      ],
      "metadata": {
        "colab": {
          "base_uri": "https://localhost:8080/"
        },
        "id": "YUwrqmxJnht1",
        "outputId": "fe6dda09-bd78-4570-8add-88d67ea98572"
      },
      "execution_count": 7,
      "outputs": [
        {
          "output_type": "stream",
          "name": "stdout",
          "text": [
            "The x final data is \n",
            "       CreditScore  Age  Tenure  ...  Germany  Spain  Male\n",
            "0             619   42       2  ...        0      0     0\n",
            "1             608   41       1  ...        0      1     0\n",
            "2             502   42       8  ...        0      0     0\n",
            "3             699   39       1  ...        0      0     0\n",
            "4             850   43       2  ...        0      1     0\n",
            "...           ...  ...     ...  ...      ...    ...   ...\n",
            "9995          771   39       5  ...        0      0     1\n",
            "9996          516   35      10  ...        0      0     1\n",
            "9997          709   36       7  ...        0      0     0\n",
            "9998          772   42       3  ...        1      0     1\n",
            "9999          792   28       4  ...        0      0     0\n",
            "\n",
            "[10000 rows x 11 columns]\n"
          ]
        }
      ]
    },
    {
      "cell_type": "code",
      "source": [
        "# splitting the data set\n",
        "x_train, x_test , y_train, y_test = train_test_split(x,y , test_size=0.2, random_state=0)\n"
      ],
      "metadata": {
        "id": "gDIISZD2njRM"
      },
      "execution_count": 8,
      "outputs": []
    },
    {
      "cell_type": "code",
      "source": [
        "# scaling the x_train, x_test\n",
        "scaler = StandardScaler()\n",
        "x_train = scaler.fit_transform(x_train)\n",
        "x_test = scaler.fit_transform(x_test)\n"
      ],
      "metadata": {
        "id": "q5EeXZRTnk7N"
      },
      "execution_count": 9,
      "outputs": []
    },
    {
      "cell_type": "code",
      "source": [
        "## Preforming hyperparameter optimization\n",
        "from keras.wrappers.scikit_learn import KerasClassifier\n",
        "from sklearn.model_selection import GridSearchCV\n",
        "from keras.activations import relu, sigmoid"
      ],
      "metadata": {
        "id": "w5cQPWXgAHx1"
      },
      "execution_count": 12,
      "outputs": []
    },
    {
      "cell_type": "code",
      "source": [
        "def create_model(layers, activation):\n",
        "  model = Sequential()\n",
        "  for i, nodes in enumerate(layers):\n",
        "    if i == 0:\n",
        "      model.add(Dense(nodes, input_dim = x_train.shape[1]))\n",
        "      model.add(Activation(activation))\n",
        "      model.add(Dropout(0.3))\n",
        "    else:\n",
        "      model.add(Dense(nodes))\n",
        "      model.add(Activation(activation))\n",
        "      model.add(Dropout(0.3))\n",
        "  model.add(Dense(units = 1, kernel_initializer='glorot_uniform', activation = 'sigmoid'))\n",
        "  model.compile(optimizer='adam', loss = 'binary_crossentropy', metrics = ['accuracy'])\n",
        "  return model\n",
        "  "
      ],
      "metadata": {
        "id": "w-Elf1_nAHuc"
      },
      "execution_count": 13,
      "outputs": []
    },
    {
      "cell_type": "code",
      "source": [
        "model = KerasClassifier(build_fn=create_model, verbose = 0)\n"
      ],
      "metadata": {
        "colab": {
          "base_uri": "https://localhost:8080/"
        },
        "id": "Q4RNsxDwAHsO",
        "outputId": "f486dee5-d724-4a47-dbee-8392f5a691fa"
      },
      "execution_count": 14,
      "outputs": [
        {
          "output_type": "stream",
          "name": "stderr",
          "text": [
            "/usr/local/lib/python3.7/dist-packages/ipykernel_launcher.py:1: DeprecationWarning: KerasClassifier is deprecated, use Sci-Keras (https://github.com/adriangb/scikeras) instead.\n",
            "  \"\"\"Entry point for launching an IPython kernel.\n"
          ]
        }
      ]
    },
    {
      "cell_type": "code",
      "source": [
        "layers = [[20], [40,20], [45, 30, 15]]\n",
        "activations = ['sigmoid', 'relu']\n",
        "param_grid = dict(layers = layers, activation = activations, batch_size = [128, 256], epochs = [30])\n",
        "grid = GridSearchCV(estimator=model, param_grid=param_grid, cv =5)\n",
        "\n",
        "grid_result = grid.fit(x_train,y_train)\n",
        "\n",
        "print(grid_result.best_score_, grid_result.best_params_)"
      ],
      "metadata": {
        "colab": {
          "base_uri": "https://localhost:8080/"
        },
        "id": "8ABsG8mfAHeY",
        "outputId": "7accb695-03c9-44ac-a536-8f48f0584386"
      },
      "execution_count": 16,
      "outputs": [
        {
          "output_type": "stream",
          "name": "stdout",
          "text": [
            "0.8566250205039978 {'activation': 'relu', 'batch_size': 128, 'epochs': 30, 'layers': [40, 20]}\n"
          ]
        }
      ]
    },
    {
      "cell_type": "code",
      "source": [
        "pred_y = grid.predict(x_test)\n",
        "from sklearn.metrics import confusion_matrix\n",
        "cm = confusion_matrix(y_test, pred_y)\n",
        "print(cm)\n",
        "from sklearn.metrics import accuracy_score\n",
        "score = accuracy_score(y_test, pred_y)\n",
        "print(score)"
      ],
      "metadata": {
        "colab": {
          "base_uri": "https://localhost:8080/"
        },
        "id": "OTbHeoqxIhUu",
        "outputId": "1a1a4faf-d85f-42ef-c87c-bb2f7e3246f0"
      },
      "execution_count": 26,
      "outputs": [
        {
          "output_type": "stream",
          "name": "stdout",
          "text": [
            "[[1554   41]\n",
            " [ 224  181]]\n",
            "0.8675\n"
          ]
        }
      ]
    },
    {
      "cell_type": "code",
      "source": [
        ""
      ],
      "metadata": {
        "id": "eMxXXeDtIWSj"
      },
      "execution_count": null,
      "outputs": []
    }
  ]
}